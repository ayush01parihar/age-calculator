{
 "cells": [
  {
   "cell_type": "code",
   "execution_count": null,
   "id": "73cbcc35",
   "metadata": {},
   "outputs": [],
   "source": []
  },
  {
   "cell_type": "code",
   "execution_count": null,
   "id": "3c1353fa",
   "metadata": {},
   "outputs": [],
   "source": []
  },
  {
   "cell_type": "code",
   "execution_count": null,
   "id": "373b32c9",
   "metadata": {},
   "outputs": [],
   "source": []
  },
  {
   "cell_type": "code",
   "execution_count": 2,
   "id": "7785e0c0",
   "metadata": {},
   "outputs": [
    {
     "name": "stdout",
     "output_type": "stream",
     "text": [
      "enter birth year:2001\n",
      "enter birth month:12\n",
      "enter birth date:1\n",
      "\n",
      "Your Date of Birth:- 2001-12-01\n",
      "you are 20 years 11 months and 26 days old!!!\n"
     ]
    }
   ],
   "source": [
    "import datetime as dt\n",
    "a=int(input(\"enter birth year:\"))\n",
    "b=int(input(\"enter birth month:\"))\n",
    "c=int(input(\"enter birth date:\"))\n",
    "birth=dt.date(a,b,c)\n",
    "print()\n",
    "print(\"Your Date of Birth:-\",birth)\n",
    "\n",
    "\n",
    "leapyear=[31,29,31,30,31,30,31,31,30,31,30,31]\n",
    "normalyear=[31,28,31,30,31,30,31,31,30,31,30,31]\n",
    "leapbirth=False\n",
    "leapcurrent=False\n",
    "if c%400==0 or (c%4==0 and c%100!=0):\n",
    "    x=leapyear[b-1]\n",
    "    leapbirth=True\n",
    "else:\n",
    "    x=normalyear[b-1]\n",
    "\n",
    "     \n",
    "current=dt.datetime.today()\n",
    "if current.year%400==0 or (current.year%4==0 and current.year%100==0):\n",
    "    y=leapyear[current.month-1]\n",
    "    leapcurrent=True\n",
    "else:\n",
    "    y=normalyear[current.month-1]\n",
    "    \n",
    "    \n",
    "    \n",
    "years=current.year-birth.year\n",
    "if birth.month>current.month:\n",
    "    months=12-(birth.month-current.month)\n",
    "    years=years-1\n",
    "if birth.month<=current.month:\n",
    "    months=current.month-birth.month\n",
    "if birth.day>current.day:\n",
    "    if months==0:\n",
    "        years=years-1\n",
    "        days=x-(birth.day-current.day+(x-y-1))\n",
    "    else:\n",
    "        months=months-1\n",
    "        days=x-(birth.day-current.day+(x-y-1))\n",
    "if birth.day<=current.day:\n",
    "    days=(current.day-birth.day)\n",
    "    \n",
    "\n",
    "print(f\"you are {years} years {months} months and {days} days old!!!\")"
   ]
  },
  {
   "cell_type": "code",
   "execution_count": null,
   "id": "bdbeec0c",
   "metadata": {},
   "outputs": [],
   "source": []
  },
  {
   "cell_type": "code",
   "execution_count": null,
   "id": "519dc9a4",
   "metadata": {},
   "outputs": [],
   "source": []
  },
  {
   "cell_type": "code",
   "execution_count": null,
   "id": "311b78c2",
   "metadata": {},
   "outputs": [],
   "source": []
  }
 ],
 "metadata": {
  "kernelspec": {
   "display_name": "Python 3 (ipykernel)",
   "language": "python",
   "name": "python3"
  },
  "language_info": {
   "codemirror_mode": {
    "name": "ipython",
    "version": 3
   },
   "file_extension": ".py",
   "mimetype": "text/x-python",
   "name": "python",
   "nbconvert_exporter": "python",
   "pygments_lexer": "ipython3",
   "version": "3.9.12"
  }
 },
 "nbformat": 4,
 "nbformat_minor": 5
}
